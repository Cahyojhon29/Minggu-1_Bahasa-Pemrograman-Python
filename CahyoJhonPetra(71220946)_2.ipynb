{
  "nbformat": 4,
  "nbformat_minor": 0,
  "metadata": {
    "colab": {
      "provenance": []
    },
    "kernelspec": {
      "name": "python3",
      "display_name": "Python 3"
    },
    "language_info": {
      "name": "python"
    }
  },
  "cells": [
    {
      "cell_type": "code",
      "execution_count": 1,
      "metadata": {
        "colab": {
          "base_uri": "https://localhost:8080/"
        },
        "id": "DuyihU2_r-hT",
        "outputId": "6a128747-a15b-4f53-d727-aedc788cd391"
      },
      "outputs": [
        {
          "output_type": "stream",
          "name": "stdout",
          "text": [
            "Keuntungan per gram: 35000\n",
            "Keuntungan total: 875000\n",
            "Persentase keuntungan: 134.6153846153846\n"
          ]
        }
      ],
      "source": [
        "harga_beli = 650000\n",
        "jumlah_beli = 25\n",
        "harga_jual = 685000\n",
        "keuntungan_per_gram = harga_jual - harga_beli\n",
        "keuntungan_total = keuntungan_per_gram * jumlah_beli\n",
        "persentase_keuntungan = (keuntungan_total / harga_beli) * 100\n",
        "print(\"Keuntungan per gram:\", keuntungan_per_gram)\n",
        "print(\"Keuntungan total:\", keuntungan_total)\n",
        "print(\"Persentase keuntungan:\", persentase_keuntungan)"
      ]
    },
    {
      "cell_type": "code",
      "source": [
        "harga_beli = 650000\n",
        "jumlah_beli = 25\n",
        "harga_jual = 685000\n",
        "keuntungan_per_gram = harga_jual - harga_beli\n",
        "keuntungan_total = keuntungan_per_gram * jumlah_beli\n",
        "persentase_keuntungan = (keuntungan_total / harga_beli) * 100\n",
        "total_emas = jumlah_beli + 15\n",
        "keuntungan_per_gram_2 = harga_jual - harga_beli\n",
        "keuntungan_total_2 = keuntungan_per_gram_2 * total_emas\n",
        "keuntungan_total_keseluruhan = keuntungan_total + keuntungan_total_2\n",
        "persentase_keuntungan_2 = (keuntungan_total_2 / harga_beli) * 100\n",
        "persentase_keuntungan_keseluruhan = (keuntungan_total_keseluruhan / harga_beli) * 100\n",
        "print(\"Total gram emas:\", total_emas)\n",
        "print(\"Keuntungan per gram pada penjualan kedua:\", keuntungan_per_gram_2)\n",
        "print(\"Keuntungan total pada penjualan kedua:\", keuntungan_total_2)\n",
        "print(\"Keuntungan total keseluruhan:\", keuntungan_total_keseluruhan)\n",
        "print(\"Persentase keuntungan pada penjualan kedua:\", persentase_keuntungan_2)\n",
        "print(\"Persentase keuntungan keseluruhan:\", persentase_keuntungan_keseluruhan)\n"
      ],
      "metadata": {
        "colab": {
          "base_uri": "https://localhost:8080/"
        },
        "id": "99CeEQjRscOI",
        "outputId": "b0bf8172-9087-424e-b8c4-ae1350ae7edb"
      },
      "execution_count": 2,
      "outputs": [
        {
          "output_type": "stream",
          "name": "stdout",
          "text": [
            "Total gram emas: 40\n",
            "Keuntungan per gram pada penjualan kedua: 35000\n",
            "Keuntungan total pada penjualan kedua: 1400000\n",
            "Keuntungan total keseluruhan: 2275000\n",
            "Persentase keuntungan pada penjualan kedua: 215.3846153846154\n",
            "Persentase keuntungan keseluruhan: 350.0\n"
          ]
        }
      ]
    }
  ]
}