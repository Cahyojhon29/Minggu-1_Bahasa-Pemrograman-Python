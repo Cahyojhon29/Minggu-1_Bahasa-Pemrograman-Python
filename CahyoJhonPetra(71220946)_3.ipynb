{
  "nbformat": 4,
  "nbformat_minor": 0,
  "metadata": {
    "colab": {
      "provenance": []
    },
    "kernelspec": {
      "name": "python3",
      "display_name": "Python 3"
    },
    "language_info": {
      "name": "python"
    }
  },
  "cells": [
    {
      "cell_type": "code",
      "execution_count": 1,
      "metadata": {
        "colab": {
          "base_uri": "https://localhost:8080/"
        },
        "id": "KxKm2fzzs3AJ",
        "outputId": "fb420896-721a-494e-d76c-27279b5cbe63"
      },
      "outputs": [
        {
          "output_type": "stream",
          "name": "stdout",
          "text": [
            "Waktu yang dibutuhkan: 7.272540897341713 tahun\n"
          ]
        }
      ],
      "source": [
        "import math\n",
        "uang_awal = 200000000\n",
        "uang_minimal = 400000000\n",
        "bunga = 10\n",
        "perkembangan_bunga = 1 + bunga / 100\n",
        "waktu = math.log(uang_minimal / uang_awal) / math.log(perkembangan_bunga)\n",
        "print(\"Waktu yang dibutuhkan:\", waktu, \"tahun\")\n"
      ]
    }
  ]
}